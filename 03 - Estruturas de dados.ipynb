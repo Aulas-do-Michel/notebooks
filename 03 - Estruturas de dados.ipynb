{
 "cells": [
  {
   "cell_type": "markdown",
   "id": "8e31701f-ab28-4e29-8855-d92e0c6e4543",
   "metadata": {},
   "source": [
    "# 03 - Estruturas de Dados"
   ]
  },
  {
   "cell_type": "markdown",
   "id": "565deaf2-6fe5-4cfd-bb00-04a2a6c1ee4f",
   "metadata": {},
   "source": [
    "Até então lidamos com variáveis simples, lidando com apenas um dado de cada vez. Agora vamos ver outras estruturas importantes, que servem para armazenar mais de um tipo de dado."
   ]
  },
  {
   "cell_type": "markdown",
   "id": "3f6fce9d-9f21-4873-8145-08c004bfd159",
   "metadata": {},
   "source": [
    "## Lista"
   ]
  },
  {
   "cell_type": "markdown",
   "id": "a33a898c-b6c0-4479-b863-d47f743b6d6b",
   "metadata": {},
   "source": [
    "A lista é um dos principais estruturas de dados da programação  (em algumas linguagens também utilizamos o termo array, embora tenha diferenças teóricas entre os termos). \n",
    "\n",
    "Uma lista é uma sequência de valores de qualquer tipo (seja `int`, `str`, `bool`, outra lista, etc).\n",
    "\n",
    "Você criar utilizando a seguinte sintaxe:"
   ]
  },
  {
   "cell_type": "code",
   "execution_count": 1,
   "id": "5ce4bd9f-6c3f-40ad-8bd3-2428c061973a",
   "metadata": {
    "tags": []
   },
   "outputs": [],
   "source": [
    "minha_lista = [1, 2, 3, 4, 5]"
   ]
  },
  {
   "cell_type": "code",
   "execution_count": 2,
   "id": "b78e0d5f-993e-4364-9b83-b7436f6940da",
   "metadata": {
    "tags": []
   },
   "outputs": [
    {
     "name": "stdout",
     "output_type": "stream",
     "text": [
      "[1, 2, 3, 4, 5]\n"
     ]
    }
   ],
   "source": [
    "print(minha_lista)"
   ]
  },
  {
   "cell_type": "markdown",
   "id": "86ab9059-5db2-4765-a6cc-08185ee6b207",
   "metadata": {},
   "source": [
    "### Acessando elementos da lista\n",
    "\n",
    "Você pode os elementos de uma lista usando um índice (que nada mais é que a posição do valor que você quer).\n",
    "\n",
    "**Obs:** Mas cuidado! Na programação costumamos contar a partir do número 0, não do número 1. Ou seja, o primeiro elemento é o número `0`, o segundo é o número `1` e assim por diante.\n",
    "\n",
    "Fazemos isso da seguinte forma:"
   ]
  },
  {
   "cell_type": "code",
   "execution_count": 3,
   "id": "788b5c93-87b6-4533-834f-f94cca06c180",
   "metadata": {
    "tags": []
   },
   "outputs": [
    {
     "name": "stdout",
     "output_type": "stream",
     "text": [
      "5\n"
     ]
    }
   ],
   "source": [
    "print(minha_lista[4])"
   ]
  },
  {
   "cell_type": "markdown",
   "id": "f8b87e47-128f-48b1-9873-21ac0572f77a",
   "metadata": {},
   "source": [
    "O minha_lista[0], retorna a primeira posição da lista, ou seja o número 1."
   ]
  },
  {
   "cell_type": "code",
   "execution_count": 4,
   "id": "be9affbf-52e4-4ef9-a7b7-2f7a627731a0",
   "metadata": {
    "tags": []
   },
   "outputs": [
    {
     "name": "stdout",
     "output_type": "stream",
     "text": [
      "4\n"
     ]
    }
   ],
   "source": [
    "print(minha_lista[3])"
   ]
  },
  {
   "cell_type": "code",
   "execution_count": 5,
   "id": "aa74b9f0-f72b-40a4-9ad6-5709895c7804",
   "metadata": {
    "tags": []
   },
   "outputs": [
    {
     "name": "stdout",
     "output_type": "stream",
     "text": [
      "5\n"
     ]
    }
   ],
   "source": [
    "print(minha_lista[4])"
   ]
  },
  {
   "cell_type": "markdown",
   "id": "e882acb5-3d91-403f-8798-7db55a66ca6e",
   "metadata": {},
   "source": [
    "Em Python, também pode-se usar um número negativo para pegar na posição contrário. Ou seja, -1 pega o último elemento da lista:"
   ]
  },
  {
   "cell_type": "code",
   "execution_count": 6,
   "id": "aa3e45b4-86ad-43dd-b9c4-e8a27357c7a6",
   "metadata": {
    "tags": []
   },
   "outputs": [
    {
     "name": "stdout",
     "output_type": "stream",
     "text": [
      "5\n"
     ]
    }
   ],
   "source": [
    "print(minha_lista[-1])"
   ]
  },
  {
   "cell_type": "markdown",
   "id": "9b4b931d-da58-46da-be8c-26047bbc4e3d",
   "metadata": {},
   "source": [
    "Isso também funciona para uma lista de outros tipos de elementos:"
   ]
  },
  {
   "cell_type": "code",
   "execution_count": 7,
   "id": "4196ecd2-3704-4fe0-bf99-8ee11fd67b8c",
   "metadata": {
    "tags": []
   },
   "outputs": [],
   "source": [
    "frase = [\"Eu\", \"adoro\", \"aprender\", \"programação\"]"
   ]
  },
  {
   "cell_type": "code",
   "execution_count": 8,
   "id": "9e5611ce-0ab8-4534-8ef3-d8913399107e",
   "metadata": {
    "tags": []
   },
   "outputs": [
    {
     "name": "stdout",
     "output_type": "stream",
     "text": [
      "adoro\n"
     ]
    }
   ],
   "source": [
    "print(frase[1])"
   ]
  },
  {
   "cell_type": "markdown",
   "id": "40eb9f66-5688-4b8e-a09d-c478f38e6581",
   "metadata": {},
   "source": [
    "### Trocando elementos da lista\n",
    "\n",
    "Você pode modificar os items de uma lista, ao acessar eles pelo índice, da mesma forma que modifica valores de variáveis.\n",
    "\n",
    "Por exemplo:"
   ]
  },
  {
   "cell_type": "code",
   "execution_count": 9,
   "id": "69666652-032f-401d-8b9c-625b8591e908",
   "metadata": {
    "tags": []
   },
   "outputs": [],
   "source": [
    "frase[1] = \"odeio\""
   ]
  },
  {
   "cell_type": "code",
   "execution_count": 10,
   "id": "d0a3c47d-365a-4199-9bec-e139fd5a1ea9",
   "metadata": {
    "tags": []
   },
   "outputs": [
    {
     "name": "stdout",
     "output_type": "stream",
     "text": [
      "odeio\n"
     ]
    }
   ],
   "source": [
    "print(frase[1])"
   ]
  },
  {
   "cell_type": "code",
   "execution_count": 11,
   "id": "73f0492c-39d8-4d3e-8163-f9f95a378013",
   "metadata": {
    "tags": []
   },
   "outputs": [
    {
     "name": "stdout",
     "output_type": "stream",
     "text": [
      "['Eu', 'odeio', 'aprender', 'programação']\n"
     ]
    }
   ],
   "source": [
    "print(frase)"
   ]
  },
  {
   "cell_type": "code",
   "execution_count": 12,
   "id": "7b61ec49-0214-4b97-ad58-83b7664064d8",
   "metadata": {
    "tags": []
   },
   "outputs": [],
   "source": [
    "numeros = [10, 20]"
   ]
  },
  {
   "cell_type": "code",
   "execution_count": 13,
   "id": "99186453-b0be-4193-b156-0c3a653740a6",
   "metadata": {
    "tags": []
   },
   "outputs": [],
   "source": [
    "numeros[1] = numeros[0] + numeros[1]"
   ]
  },
  {
   "cell_type": "code",
   "execution_count": 14,
   "id": "82ac9efc-a21b-40ca-a5d0-2be298212167",
   "metadata": {
    "tags": []
   },
   "outputs": [
    {
     "name": "stdout",
     "output_type": "stream",
     "text": [
      "[10, 30]\n"
     ]
    }
   ],
   "source": [
    "print(numeros)"
   ]
  },
  {
   "cell_type": "markdown",
   "id": "06d72ddf-d17a-4160-a73e-a25e358c194b",
   "metadata": {},
   "source": [
    "### Verificando o tamanho de uma lista\n",
    "\n",
    "Você pode verificar o tamanho de uma lista usando o comando `len` (`len` vem de `length` ou \"comprimento\")."
   ]
  },
  {
   "cell_type": "code",
   "execution_count": 15,
   "id": "67e2b91a-b5e8-48e2-9ebe-27c6c25e6816",
   "metadata": {
    "tags": []
   },
   "outputs": [
    {
     "name": "stdout",
     "output_type": "stream",
     "text": [
      "4\n"
     ]
    }
   ],
   "source": [
    "print(len(frase))"
   ]
  },
  {
   "cell_type": "code",
   "execution_count": 16,
   "id": "08dbd50b-e555-42db-b00a-e96197d9d446",
   "metadata": {
    "tags": []
   },
   "outputs": [
    {
     "name": "stdout",
     "output_type": "stream",
     "text": [
      "3\n"
     ]
    }
   ],
   "source": [
    "print(len([1, 1, 1]))"
   ]
  },
  {
   "cell_type": "markdown",
   "id": "3453ea52-6874-4710-94b4-f882baa6beb2",
   "metadata": {},
   "source": [
    "### Verificando se um elemento está na lista\n",
    "\n",
    "Você pode verificar se um elemento está numa lista em python usando o comando `in`.\n",
    "\n",
    "Por exemplo:"
   ]
  },
  {
   "cell_type": "code",
   "execution_count": 17,
   "id": "45f1be64-379b-434f-8663-640757b79367",
   "metadata": {
    "tags": []
   },
   "outputs": [
    {
     "data": {
      "text/plain": [
       "True"
      ]
     },
     "execution_count": 17,
     "metadata": {},
     "output_type": "execute_result"
    }
   ],
   "source": [
    "1 in [1, 2, 3]"
   ]
  },
  {
   "cell_type": "code",
   "execution_count": 18,
   "id": "af0f6671-e8ec-4602-bc87-773171825721",
   "metadata": {
    "tags": []
   },
   "outputs": [
    {
     "data": {
      "text/plain": [
       "False"
      ]
     },
     "execution_count": 18,
     "metadata": {},
     "output_type": "execute_result"
    }
   ],
   "source": [
    "0 in [1, 2, 3]"
   ]
  },
  {
   "cell_type": "code",
   "execution_count": 19,
   "id": "aba601b1-86ed-439e-8b33-04c945ffc667",
   "metadata": {
    "tags": []
   },
   "outputs": [],
   "source": [
    "if 1 in [2]:\n",
    "    print('O 1 está na lista')"
   ]
  },
  {
   "cell_type": "markdown",
   "id": "70f4e9aa-6f99-48fb-8cb1-eaa8e159cc82",
   "metadata": {
    "tags": []
   },
   "source": [
    "#### Exercício em sala:\n",
    "\n",
    "Utilizando a função de `for`/`range` que aprendemos, a função `len`, vamos varrer todos os items de uma lista e printar da seguinte maneira:\n",
    "\n",
    "Exemplo:\n",
    "\n",
    "lista = [10, 30, 50, 0]\n",
    "\n",
    "O valor da posição 0 é 10.\n",
    "\n",
    "O valor da posição 1 é 30.\n",
    "\n",
    "O valor da posição 2 é 50.\n",
    "\n",
    "O valor da posição 3 é 0."
   ]
  },
  {
   "cell_type": "code",
   "execution_count": 20,
   "id": "4086f43b-66b8-498f-a0f4-d11c7fbe1e1f",
   "metadata": {
    "tags": []
   },
   "outputs": [],
   "source": [
    "lista = [10, 30, 50, 0]"
   ]
  },
  {
   "cell_type": "code",
   "execution_count": 21,
   "id": "3374cbe2-5618-4dd5-a8fe-36dfd99b6c51",
   "metadata": {
    "tags": []
   },
   "outputs": [
    {
     "name": "stdout",
     "output_type": "stream",
     "text": [
      "O valor da posição 0 é 10\n",
      "O valor da posição 1 é 30\n",
      "O valor da posição 2 é 50\n",
      "O valor da posição 3 é 0\n"
     ]
    }
   ],
   "source": [
    "### Fazer exercício\n",
    "\n",
    "tamanho_da_lista = len(lista)\n",
    "\n",
    "for i in range(tamanho_da_lista):\n",
    "    print(f\"O valor da posição {i} é {lista[i]}\")"
   ]
  },
  {
   "cell_type": "markdown",
   "id": "c1b3a7c7-c68b-43ae-b9b4-cd6a55fa39bd",
   "metadata": {},
   "source": [
    "#### Exercício - Achando a média de uma lista\n",
    "\n",
    "Dado uma lista com valores numéricos, calcule a média dos valores dela"
   ]
  },
  {
   "cell_type": "code",
   "execution_count": 22,
   "id": "386bf317-5d59-401a-80a6-f6b37ef3be28",
   "metadata": {
    "tags": []
   },
   "outputs": [],
   "source": [
    "lista = [99, 87, 12, 400, 12, 123, 1, 11, 0, 23, 1, 4, 40, 120]"
   ]
  },
  {
   "cell_type": "code",
   "execution_count": 23,
   "id": "da9b14ab-238b-4840-bbc4-9c4d9c810324",
   "metadata": {
    "tags": []
   },
   "outputs": [
    {
     "name": "stdout",
     "output_type": "stream",
     "text": [
      "A média é 66.64\n"
     ]
    }
   ],
   "source": [
    "### Fazer exercício\n",
    "tamanho_da_lista = len(lista)\n",
    "\n",
    "soma = 0\n",
    "for valor in lista:\n",
    "    soma += valor\n",
    "\n",
    "media = soma / tamanho_da_lista\n",
    "\n",
    "print(f\"A média é {media:.2f}\")"
   ]
  },
  {
   "cell_type": "markdown",
   "id": "d709b649-27e0-48fe-bcb4-48f0f2ede4a9",
   "metadata": {},
   "source": [
    "### Adicionando e removendo elementos\n",
    "\n",
    "Já aprendemos a trocar valores de uma lista. Mas também podemos aumentar ou diminuir o tamanho dessa lista, adicionando ou removendo elementos.\n",
    "\n",
    "Você pode adicionar elementos novos numa lista usando o comando `.append(valor)`. Ele adiciona na última posição.\n",
    "\n",
    "Você pode remover elementos em uma lista usando o comando `.pop()`. Ele a princípio remove o último elemento da lista, mas você pode passar de parametro o índice do elemento que você quer que ele remova."
   ]
  },
  {
   "cell_type": "code",
   "execution_count": 24,
   "id": "6cb3b541-b636-42ba-ac2c-5b0811556156",
   "metadata": {
    "tags": []
   },
   "outputs": [],
   "source": [
    "minha_lista = [] # Inicializando uma lista vazia"
   ]
  },
  {
   "cell_type": "code",
   "execution_count": 25,
   "id": "b1da4753-bd2e-4c95-8b96-7aca8df1faf6",
   "metadata": {
    "tags": []
   },
   "outputs": [],
   "source": [
    "minha_lista.append(1)"
   ]
  },
  {
   "cell_type": "code",
   "execution_count": 26,
   "id": "0cc03945-4787-49a0-8ddb-d36b40d7cb73",
   "metadata": {
    "tags": []
   },
   "outputs": [
    {
     "name": "stdout",
     "output_type": "stream",
     "text": [
      "[1]\n"
     ]
    }
   ],
   "source": [
    "print(minha_lista)"
   ]
  },
  {
   "cell_type": "code",
   "execution_count": 27,
   "id": "d8cb21d4-3b73-438b-b220-79bc9f2c8330",
   "metadata": {
    "tags": []
   },
   "outputs": [],
   "source": [
    "minha_lista.append(2)\n",
    "minha_lista.append(3)"
   ]
  },
  {
   "cell_type": "code",
   "execution_count": 28,
   "id": "2f29c656-67b9-4531-90a9-e9346b0932a0",
   "metadata": {
    "tags": []
   },
   "outputs": [
    {
     "name": "stdout",
     "output_type": "stream",
     "text": [
      "[1, 2, 3]\n"
     ]
    }
   ],
   "source": [
    "print(minha_lista)"
   ]
  },
  {
   "cell_type": "code",
   "execution_count": 29,
   "id": "eaf9a4a6-b095-485a-800b-e892f799c886",
   "metadata": {
    "tags": []
   },
   "outputs": [
    {
     "data": {
      "text/plain": [
       "3"
      ]
     },
     "execution_count": 29,
     "metadata": {},
     "output_type": "execute_result"
    }
   ],
   "source": [
    "minha_lista.pop()"
   ]
  },
  {
   "cell_type": "code",
   "execution_count": 30,
   "id": "9b97dfa0-8218-46ce-8337-e1ec3ca1f9a0",
   "metadata": {
    "tags": []
   },
   "outputs": [
    {
     "name": "stdout",
     "output_type": "stream",
     "text": [
      "[1, 2]\n"
     ]
    }
   ],
   "source": [
    "print(minha_lista)"
   ]
  },
  {
   "cell_type": "code",
   "execution_count": 31,
   "id": "bca0bfa9-dfcd-4d93-88e9-9de96f1e2cc4",
   "metadata": {
    "tags": []
   },
   "outputs": [
    {
     "data": {
      "text/plain": [
       "1"
      ]
     },
     "execution_count": 31,
     "metadata": {},
     "output_type": "execute_result"
    }
   ],
   "source": [
    "minha_lista.pop(0)"
   ]
  },
  {
   "cell_type": "code",
   "execution_count": 32,
   "id": "d152b300-789c-456e-a2ed-5225731e5cff",
   "metadata": {
    "tags": []
   },
   "outputs": [
    {
     "name": "stdout",
     "output_type": "stream",
     "text": [
      "[2]\n"
     ]
    }
   ],
   "source": [
    "print(minha_lista)"
   ]
  },
  {
   "cell_type": "markdown",
   "id": "5a2d865d-a726-4e15-88b4-9e4a776ae3eb",
   "metadata": {},
   "source": [
    "#### Exercício - Recebendo uma lista de input.\n",
    "\n",
    "Pergunte quantos elementos um usuário quer inserir numa lista. \n",
    "\n",
    "Depois para essa quantidade, pergunte o valor de cada elemento. Depois, imprima a lista completa"
   ]
  },
  {
   "cell_type": "code",
   "execution_count": 34,
   "id": "47f294cb-f650-4370-bd4d-ce5521051b9f",
   "metadata": {
    "tags": []
   },
   "outputs": [
    {
     "name": "stdin",
     "output_type": "stream",
     "text": [
      "Digite o números de elementos da sua lista:  1\n",
      "Digite aqui:  1\n"
     ]
    },
    {
     "name": "stdout",
     "output_type": "stream",
     "text": [
      "A lista obtida foi:  ['1']\n"
     ]
    }
   ],
   "source": [
    "n = int(input(\"Digite o números de elementos da sua lista: \"))\n",
    "lista = []\n",
    "\n",
    "for i in range(n):\n",
    "    valor_coletado = input(\"Digite aqui: \")\n",
    "    lista.append(valor_coletado)\n",
    "    \n",
    "print(\"A lista obtida foi: \", lista)"
   ]
  },
  {
   "cell_type": "markdown",
   "id": "82635c59-7208-419d-b878-4313f1f6d729",
   "metadata": {},
   "source": [
    "### Listas compostas\n",
    "\n",
    "Uma lista não necessariamente precisa conter apenas elementos simples.\n",
    "\n",
    "Ela pode conter elementos mais complexos, como outras listas.\n",
    "\n",
    "Por exemplo:"
   ]
  },
  {
   "cell_type": "code",
   "execution_count": 35,
   "id": "f513db10-5e90-4d3f-b8a7-af4c23a77eb0",
   "metadata": {},
   "outputs": [],
   "source": [
    "lista_de_listas = [[1, 2, 3], [1, 2]]"
   ]
  },
  {
   "cell_type": "code",
   "execution_count": 36,
   "id": "d30303bd-473d-4b88-b0bd-86a0f6f054c6",
   "metadata": {
    "tags": []
   },
   "outputs": [
    {
     "name": "stdout",
     "output_type": "stream",
     "text": [
      "[[1, 2, 3], [1, 2]]\n"
     ]
    }
   ],
   "source": [
    "print(lista_de_listas)"
   ]
  },
  {
   "cell_type": "markdown",
   "id": "d7dd5bca-bbfb-4fed-a881-b75e41513506",
   "metadata": {},
   "source": [
    "Nesse caso podemos acessar os elementos normalmente:"
   ]
  },
  {
   "cell_type": "code",
   "execution_count": 37,
   "id": "f67d591f-236d-463d-8779-56019518d6b4",
   "metadata": {
    "tags": []
   },
   "outputs": [
    {
     "data": {
      "text/plain": [
       "2"
      ]
     },
     "execution_count": 37,
     "metadata": {},
     "output_type": "execute_result"
    }
   ],
   "source": [
    "lista_de_listas[0][1]"
   ]
  },
  {
   "cell_type": "markdown",
   "id": "3aa813b7-f5d4-44a0-bd31-b12f16812923",
   "metadata": {},
   "source": [
    "Isso pode servir para vários casos, desde problemas que utilizem dados compostos, quanto problemas de matrizes.\n",
    "\n",
    "Você pode representar uma matriz através de uma lista de lista, por exemplo:"
   ]
  },
  {
   "cell_type": "code",
   "execution_count": 38,
   "id": "5b0fbf21-ce1b-426d-a443-e84a58924d3e",
   "metadata": {
    "tags": []
   },
   "outputs": [],
   "source": [
    "matriz_3x3 = [[0, 0, 0], [0, 0, 0], [0, 0, 0]]"
   ]
  },
  {
   "cell_type": "markdown",
   "id": "fd86d5e3-539d-4a78-bcd6-891423fdf98b",
   "metadata": {},
   "source": [
    "Podemos manipular os elementos, por exemplo transformando ela numa matriz identidade:"
   ]
  },
  {
   "cell_type": "code",
   "execution_count": 39,
   "id": "91f93802-df32-4282-9a21-f3e48789f1b4",
   "metadata": {
    "tags": []
   },
   "outputs": [],
   "source": [
    "matriz_3x3[0][0] = 1"
   ]
  },
  {
   "cell_type": "code",
   "execution_count": 40,
   "id": "2e6c5e71-f4e7-468c-986c-da181cbea3c9",
   "metadata": {
    "tags": []
   },
   "outputs": [],
   "source": [
    "matriz_3x3[1][1] = 1"
   ]
  },
  {
   "cell_type": "code",
   "execution_count": 41,
   "id": "e96ce57f-30a8-406a-af9a-95b0f328f14a",
   "metadata": {
    "tags": []
   },
   "outputs": [],
   "source": [
    "matriz_3x3[2][2] = 1"
   ]
  },
  {
   "cell_type": "markdown",
   "id": "775e41cb-57ca-447c-a20b-c542ccd373e2",
   "metadata": {
    "tags": []
   },
   "source": [
    "Podemos imprimir a matriz agora:"
   ]
  },
  {
   "cell_type": "code",
   "execution_count": 42,
   "id": "365584ce-bf4e-4207-b23d-1458d50bc2de",
   "metadata": {
    "tags": []
   },
   "outputs": [
    {
     "name": "stdout",
     "output_type": "stream",
     "text": [
      "[1][0][0]\n",
      "[0][1][0]\n",
      "[0][0][1]\n"
     ]
    }
   ],
   "source": [
    "for linha in range(3):\n",
    "    for coluna in range(3):\n",
    "        print(f\"[{matriz_3x3[linha][coluna]}]\", end=\"\")\n",
    "    print()"
   ]
  },
  {
   "cell_type": "markdown",
   "id": "f7424220-b70a-4a1b-a4ec-7629052a546c",
   "metadata": {},
   "source": [
    "#### Exercício:\n",
    "\n",
    "Você recebeu uma lista que contém, para cada organismos detectado numa amostra, uma outra lista contendo a quantidade de leituras que esse organismo teve em cada identificador taxonômico.\n",
    "\n",
    "Por exemplo:\n",
    "\n",
    "[[100, 200, 300], [1, 99, 10000], [0, 0, 1]].\n",
    "\n",
    "Eu quero que você identifique o organismo que teve a maior média de leituras entre todos os organismos da lista."
   ]
  },
  {
   "cell_type": "code",
   "execution_count": 43,
   "id": "70fe4af3-ab89-4e82-8104-11412bc008bd",
   "metadata": {
    "tags": []
   },
   "outputs": [],
   "source": [
    "lista_de_organismos = [[100, 200, 300], [1, 99, 10000], [0, 0, 1], [999, 999, 1], [1000, 23, 17]]"
   ]
  },
  {
   "cell_type": "code",
   "execution_count": 3,
   "id": "24b0d2c5-8788-4c88-8c2f-49973f3bc1e9",
   "metadata": {
    "tags": []
   },
   "outputs": [
    {
     "name": "stdout",
     "output_type": "stream",
     "text": [
      "O organismo com maior média é o da posição 5 da lista. 90.0\n"
     ]
    }
   ],
   "source": [
    "lista_de_organismos = [[50, 50, 50], [125, 99, 12], [19, 91, 42], [40, 189, 0], [1, 0, 0], [100, 100, 70], [99, 12, 12]]\n",
    "\n",
    "# Fazer a partir daqui\n",
    "maior_media = 0\n",
    "indice_maior_media = 0\n",
    "\n",
    "for i in range(len(lista_de_organismos)):\n",
    "    medicoes = lista_de_organismos[i]\n",
    "    \n",
    "    soma_medicoes = 0\n",
    "    for valor in medicoes:\n",
    "        soma_medicoes += valor\n",
    "    \n",
    "    media_medicoes = soma_medicoes / len(medicoes)\n",
    "\n",
    "    if media_medicoes > maior_media:\n",
    "        maior_media = media_medicoes\n",
    "        indice_maior_media = i\n",
    "\n",
    "print(f\"O organismo com maior média é o da posição {indice_maior_media} da lista.\", maior_media)"
   ]
  },
  {
   "cell_type": "code",
   "execution_count": null,
   "id": "0823d446-a004-427c-a8e2-c32eef418093",
   "metadata": {},
   "outputs": [],
   "source": []
  }
 ],
 "metadata": {
  "kernelspec": {
   "display_name": "Python 3 (ipykernel)",
   "language": "python",
   "name": "python3"
  },
  "language_info": {
   "codemirror_mode": {
    "name": "ipython",
    "version": 3
   },
   "file_extension": ".py",
   "mimetype": "text/x-python",
   "name": "python",
   "nbconvert_exporter": "python",
   "pygments_lexer": "ipython3",
   "version": "3.11.5"
  }
 },
 "nbformat": 4,
 "nbformat_minor": 5
}
