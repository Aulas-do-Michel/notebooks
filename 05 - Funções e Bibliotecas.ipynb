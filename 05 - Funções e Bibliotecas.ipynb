{
 "cells": [
  {
   "cell_type": "markdown",
   "id": "7c86518a-e3c8-4b19-a710-a36170ce9049",
   "metadata": {},
   "source": [
    "# Funções\n",
    "\n",
    "A gente já usou várias funções prontas ao longo do curso, como `print` para imprimir no terminal, `input` para coletar dados, `len` para saber o valor de uma lista, etc.\n",
    "\n",
    "Agora vamos ver como definir nossas próprias funções."
   ]
  },
  {
   "cell_type": "markdown",
   "id": "ef8bd064-2c07-448b-b094-429652be61d9",
   "metadata": {
    "tags": []
   },
   "source": [
    "### Definindo funções\n",
    "\n",
    "Definimos uma função da seguinte forma:\n",
    "\n",
    "```python\n",
    "def nome_da_função ( parâmetros ):\n",
    "    # corpo da função\n",
    "    |\n",
    "    | bloco de comandos\n",
    "    |\n",
    "    return # Retorna algo.\n",
    "```\n",
    "\n",
    "Uma função vai ser um bloco de código que será executado. Ela poderá receber parâmetros e retornar um resultado.\n",
    "\n",
    "Vejamos um exemplo:"
   ]
  },
  {
   "cell_type": "code",
   "execution_count": 1,
   "id": "3e89b60b-3e20-4f13-81cb-9654df9cffca",
   "metadata": {
    "tags": []
   },
   "outputs": [],
   "source": [
    "def calcula_area_de_retangulo(altura, largura):\n",
    "    return altura * largura"
   ]
  },
  {
   "cell_type": "markdown",
   "id": "984c0bfe-cd92-4a54-97ee-2efab0766988",
   "metadata": {},
   "source": [
    "Agora, basta chamarmos nossa função. Chamamos ela como chamamos as outras abrindo e fechando parantesis `()` e passando os parametros caso eles existam."
   ]
  },
  {
   "cell_type": "code",
   "execution_count": 2,
   "id": "89898edb-24c1-4e76-a4d4-7c9a3dae10dc",
   "metadata": {
    "tags": []
   },
   "outputs": [],
   "source": [
    "area_retangulo_1 = calcula_area_de_retangulo(10, 10)"
   ]
  },
  {
   "cell_type": "code",
   "execution_count": 3,
   "id": "3cc38d51-c8be-46fc-a909-4385382262c0",
   "metadata": {
    "tags": []
   },
   "outputs": [
    {
     "name": "stdout",
     "output_type": "stream",
     "text": [
      "100\n"
     ]
    }
   ],
   "source": [
    "print(area_retangulo_1)"
   ]
  },
  {
   "cell_type": "code",
   "execution_count": 4,
   "id": "5b4c9e0d-3802-488d-9713-3cc6b45362a4",
   "metadata": {
    "tags": []
   },
   "outputs": [],
   "source": [
    "area_retangulo_2 = calcula_area_de_retangulo(2, 5)"
   ]
  },
  {
   "cell_type": "code",
   "execution_count": 5,
   "id": "055d8da5-51d0-462a-874a-a2e6bbdad0b4",
   "metadata": {
    "tags": []
   },
   "outputs": [
    {
     "name": "stdout",
     "output_type": "stream",
     "text": [
      "10\n"
     ]
    }
   ],
   "source": [
    "print(area_retangulo_2)"
   ]
  },
  {
   "cell_type": "markdown",
   "id": "ea02ccf2-04fc-4382-a8a7-288fa8e2486f",
   "metadata": {},
   "source": [
    "Assim, conseguimos usar a nossa função várias vezes!"
   ]
  },
  {
   "cell_type": "markdown",
   "id": "74f3f05a-ab2f-419d-ba9e-97793cea0797",
   "metadata": {},
   "source": [
    "#### Exemplo 2 - Função que calcula o fatorial de um número\n",
    "\n",
    "Já fizemos esse exercício, mas agora vamos fazer uma função que recebe um número e calcula o fatorial dele!"
   ]
  },
  {
   "cell_type": "code",
   "execution_count": 6,
   "id": "0665911d-efc6-46c1-a3a5-ccbe61d33cd8",
   "metadata": {
    "tags": []
   },
   "outputs": [],
   "source": [
    "def calcula_fatorial(numero):\n",
    "    fatorial = 1\n",
    "\n",
    "    while numero >= 1:\n",
    "        fatorial *= numero\n",
    "        numero -= 1\n",
    "\n",
    "    return fatorial"
   ]
  },
  {
   "cell_type": "code",
   "execution_count": 7,
   "id": "cd0798ee-9b8b-4df4-8013-7d8443d65111",
   "metadata": {
    "tags": []
   },
   "outputs": [
    {
     "data": {
      "text/plain": [
       "720"
      ]
     },
     "execution_count": 7,
     "metadata": {},
     "output_type": "execute_result"
    }
   ],
   "source": [
    "calcula_fatorial(6)"
   ]
  },
  {
   "cell_type": "markdown",
   "id": "6bf6168d-41c5-4cad-808c-227a9f11f3c5",
   "metadata": {
    "tags": []
   },
   "source": [
    "### Para que?\n",
    "\n",
    "Existem vários motivos para dividir o código em funções. Vou citar dois mais importantes:"
   ]
  },
  {
   "cell_type": "markdown",
   "id": "501cde31-4488-49e4-96c7-b9f9c266d3e6",
   "metadata": {},
   "source": [
    "#### Legibilidade\n",
    "\n",
    "O que é mais fácil de entender o que está acontecendo?\n",
    "\n",
    "1) \n",
    "```python\n",
    "resposta = calcula_fatorial(6)\n",
    "```\n",
    "\n",
    "2) \n",
    "```python\n",
    "numero = 6\n",
    "\n",
    "valor = 1\n",
    "while numero >= 1:\n",
    "    valor *= numero\n",
    "    numero -= 1\n",
    "\n",
    "resposta = valor\n",
    "```\n",
    "\n",
    "A função deixa o código mais claro de ler para quem não escreveu ele. No exemplo 1, fica fácil de saber que a resposta é o fatorial de 6, enquanto no exemplo 2, quem ler vai ter que gastar um tempo para entender isso."
   ]
  },
  {
   "cell_type": "markdown",
   "id": "f11a6683-1a3c-482d-92f6-b5aa0439a648",
   "metadata": {},
   "source": [
    "#### Reaproveitamento de código\n",
    "\n",
    "O mais importante dele é que funções permitem a reutilização do código. Vamos revisitar um exemplo de exercício:"
   ]
  },
  {
   "cell_type": "markdown",
   "id": "aa51bd53-7341-4581-8a82-772ff450bb2e",
   "metadata": {},
   "source": [
    "#### Exemplo - Exercício 3 da aula 03 - Comparando Listas\n",
    "\n",
    "Receba duas listas de input do usuário. Ele digitará como um texto com os números separados por vígula. \n",
    "Para isso, pode-se utilizar o código disponibilizado que vai transformar esse texto em lista para você.\n",
    "\n",
    "Eu quero que você me diga qual das listas tem o maior número dentro delas. \n",
    "\n",
    "Uma maneira que poderíamos ter feito esse exercíco (evitando usar a função pré pronta `max`) é algo assim:"
   ]
  },
  {
   "cell_type": "code",
   "execution_count": 8,
   "id": "567c8871-901e-4a55-9b8f-b49c0ed3aa7a",
   "metadata": {},
   "outputs": [
    {
     "name": "stdin",
     "output_type": "stream",
     "text": [
      "Digite a sua primeira lista (separando os números por vírgula):  1,2,3\n",
      "Digite a sua segunda lista (separando os números por vírgula):  3,3,5\n"
     ]
    },
    {
     "name": "stdout",
     "output_type": "stream",
     "text": [
      "Segunda\n"
     ]
    }
   ],
   "source": [
    "# Código para pegar as listas de input\n",
    "primeira_lista = [*map(int, input(\"Digite a sua primeira lista (separando os números por vírgula): \").split(\",\"))]\n",
    "segunda_lista = [*map(int, input(\"Digite a sua segunda lista (separando os números por vírgula): \").split(\",\"))]\n",
    "\n",
    "# Fazer a partir daqui\n",
    "maior_valor_primeira_lista = 0\n",
    "\n",
    "for i in range(len(primeira_lista)):\n",
    "    if i == 0:\n",
    "        maior_valor_primeira_lista = primeira_lista[i]\n",
    "    elif primeira_lista[i] > maior_valor_primeira_lista:\n",
    "        maior_valor_primeira_lista = primeira_lista[i]\n",
    "\n",
    "maior_valor_segunda_lista = 0\n",
    "for i in range(len(segunda_lista)):\n",
    "    if i == 0:\n",
    "        maior_valor_segunda_lista = segunda_lista[i]\n",
    "    elif segunda_lista[i] > maior_valor_segunda_lista:\n",
    "        maior_valor_segunda_lista = segunda_lista[i]\n",
    "\n",
    "if maior_valor_primeira_lista > maior_valor_segunda_lista:\n",
    "    print(\"Primeira\")\n",
    "elif maior_valor_primeira_lista < maior_valor_segunda_lista:\n",
    "    print(\"Segunda\")\n",
    "else:\n",
    "    print(\"Ambas\")"
   ]
  },
  {
   "cell_type": "markdown",
   "id": "b2c8e836-8688-421d-86ba-5d7574310b42",
   "metadata": {},
   "source": [
    "O código não fica muito extenso e repetitivo e difícil de entender? Como podemos melhorar ele?"
   ]
  },
  {
   "cell_type": "code",
   "execution_count": 9,
   "id": "79cbdb97-147b-4780-83df-dcabb5bf4c05",
   "metadata": {},
   "outputs": [],
   "source": [
    "def acha_maior_valor(lista):\n",
    "    maior_valor = 0\n",
    "    for i in range(len(lista)):\n",
    "        if i == 0:\n",
    "            maior_valor = lista[i]\n",
    "        elif lista[i] > maior_valor:\n",
    "            maior_valor = lista[i]\n",
    "    return maior_valor"
   ]
  },
  {
   "cell_type": "code",
   "execution_count": 10,
   "id": "df63d783-8bf7-40f2-8e6b-ba0f96ccbbaf",
   "metadata": {
    "tags": []
   },
   "outputs": [
    {
     "name": "stdin",
     "output_type": "stream",
     "text": [
      "Digite a sua primeira lista (separando os números por vírgula):  1,1,1\n",
      "Digite a sua segunda lista (separando os números por vírgula):  2,2,2\n"
     ]
    },
    {
     "name": "stdout",
     "output_type": "stream",
     "text": [
      "Segunda\n"
     ]
    }
   ],
   "source": [
    "# Código para pegar as listas de input\n",
    "primeira_lista = [*map(int, input(\"Digite a sua primeira lista (separando os números por vírgula): \").split(\",\"))]\n",
    "segunda_lista = [*map(int, input(\"Digite a sua segunda lista (separando os números por vírgula): \").split(\",\"))]\n",
    "\n",
    "maior_valor_primeira_lista = acha_maior_valor(primeira_lista)\n",
    "maior_valor_segunda_lista = acha_maior_valor(segunda_lista)\n",
    "\n",
    "if maior_valor_primeira_lista > maior_valor_segunda_lista:\n",
    "    print(\"Primeira\")\n",
    "elif maior_valor_primeira_lista < maior_valor_segunda_lista:\n",
    "    print(\"Segunda\")\n",
    "else:\n",
    "    print(\"Ambas\")"
   ]
  },
  {
   "cell_type": "markdown",
   "id": "4dc3b3a9-8aa7-4b11-80c5-d15d7b8b4878",
   "metadata": {},
   "source": [
    "### Exercício em sala - Base complementar com funções\n",
    "\n",
    "Vamos fazer dois exercícios que já fizemos, mas usando funções.\n",
    "\n",
    "1) Façam uma função para aquele exercício que recebe uma base e retorna sua base complementar (exemplo: 'A' -> 'T').\n",
    "\n",
    "2) Depois façam uma outra função que recebe uma string com tamanho qualquer de par de bases e retorna o complemento dela (exemplo: 'ATATTC' -> 'TATAAG'). Ela vai utilizar a função 1.\n",
    "\n",
    "Podem consultar resoluções passadas se quiserem: a única regra é que a segunda função necessariamente vai usar a primeira função em vez de reescrever a lógica."
   ]
  },
  {
   "cell_type": "code",
   "execution_count": 11,
   "id": "6d32efef-cc27-48f4-94d8-9d6bc5e436a5",
   "metadata": {
    "tags": []
   },
   "outputs": [],
   "source": [
    "## Fazer"
   ]
  },
  {
   "cell_type": "markdown",
   "id": "c4c9f6d6-d13b-4373-9f37-a98b3a9c6b34",
   "metadata": {},
   "source": [
    "### Parametros opcionais\n",
    "\n",
    "Não necessariamente todos os parametros da sua função vão ser obrigatório sempre. As vezes é comum você querer deixar valores padrão para algumas variáveis caso ela não seja passado.\n",
    "\n",
    "A única coisa que você deve seguir é uma ordem: Parametros obrigatórios primeiro, e opcionais por último"
   ]
  },
  {
   "cell_type": "code",
   "execution_count": 12,
   "id": "203d2072-88ab-4140-a83f-f4dc59c860bd",
   "metadata": {
    "tags": []
   },
   "outputs": [],
   "source": [
    "def minha_funcao(parametro_obrigatorio, parametro_opcional=None):\n",
    "    if parametro_opcional:\n",
    "        return f\"Você inseriu {parametro_obrigatorio} e {parametro_opcional}.\"\n",
    "    else:\n",
    "        return f\"Você inseriu apenas {parametro_obrigatorio}.\""
   ]
  },
  {
   "cell_type": "code",
   "execution_count": 13,
   "id": "c6b31014-7270-4758-8cee-5a4e6767fbe9",
   "metadata": {
    "tags": []
   },
   "outputs": [
    {
     "data": {
      "text/plain": [
       "'Você inseriu apenas 10.'"
      ]
     },
     "execution_count": 13,
     "metadata": {},
     "output_type": "execute_result"
    }
   ],
   "source": [
    "minha_funcao(10)"
   ]
  },
  {
   "cell_type": "code",
   "execution_count": 14,
   "id": "793acddb-f47f-47b4-9aef-628277ff24cd",
   "metadata": {
    "tags": []
   },
   "outputs": [
    {
     "data": {
      "text/plain": [
       "'Você inseriu 10 e 20.'"
      ]
     },
     "execution_count": 14,
     "metadata": {},
     "output_type": "execute_result"
    }
   ],
   "source": [
    "minha_funcao(10, 20)"
   ]
  },
  {
   "cell_type": "markdown",
   "id": "944ed355-9da7-4290-996a-045b18483ec8",
   "metadata": {},
   "source": [
    "**Exemplo:**\n",
    "\n",
    "Função que recebe 3 notas de aluno (p1, p2 e p3) e a média necessário para passar e retorna se o aluno foi aprovado ou reprovado. Normalmente a média é 5."
   ]
  },
  {
   "cell_type": "code",
   "execution_count": 15,
   "id": "ec15b715-164a-4093-bdbd-221444a5bde3",
   "metadata": {
    "tags": []
   },
   "outputs": [],
   "source": [
    "def calcula_se_aluno_passou(nota_p1, nota_p2, nota_p3, media=5):\n",
    "    media_aluno = (nota_p1 + nota_p2 + nota_p3) / 3\n",
    "    if media_aluno > media:\n",
    "        return 'Passou'\n",
    "    return 'Não passou'"
   ]
  },
  {
   "cell_type": "code",
   "execution_count": 16,
   "id": "db971362-492b-457d-bdee-a3eac54c266f",
   "metadata": {
    "tags": []
   },
   "outputs": [
    {
     "data": {
      "text/plain": [
       "'Passou'"
      ]
     },
     "execution_count": 16,
     "metadata": {},
     "output_type": "execute_result"
    }
   ],
   "source": [
    "calcula_se_aluno_passou(5, 5, 6)"
   ]
  },
  {
   "cell_type": "code",
   "execution_count": 17,
   "id": "f8501171-4198-42a6-b1a9-967db8bbf303",
   "metadata": {
    "tags": []
   },
   "outputs": [
    {
     "data": {
      "text/plain": [
       "'Não passou'"
      ]
     },
     "execution_count": 17,
     "metadata": {},
     "output_type": "execute_result"
    }
   ],
   "source": [
    "calcula_se_aluno_passou(nota_p1=5, nota_p2=5, nota_p3=6, media=7)"
   ]
  },
  {
   "cell_type": "markdown",
   "id": "34e7aa3f-8c19-465d-b80d-ce510adfe442",
   "metadata": {},
   "source": [
    "### Escopo de variáveis"
   ]
  },
  {
   "cell_type": "markdown",
   "id": "d5b28a31-3aa8-4257-85b6-ccfa86985c6d",
   "metadata": {},
   "source": [
    "Uma coisa importante de se tomar cuidado é o escopo de variáveis.\n",
    "\n",
    "Variáveis definidas fora de funções, se tornam variáveis globais e podem ser acessadas dentro da função, mesmo não sendo passadas como argumento.\n",
    "\n",
    "Já variáveis definidas dentro da função só existirão dentro dela, e, caso você queira acessar fora, tem que retornar ela."
   ]
  },
  {
   "cell_type": "code",
   "execution_count": 18,
   "id": "f144540e-748c-4696-934a-8048969976f3",
   "metadata": {
    "tags": []
   },
   "outputs": [],
   "source": [
    "variavel_fora = 10\n",
    "\n",
    "def minha_funcao():\n",
    "    variavel_dentro = 20\n",
    "    print(f\"Dentro da função a variavel_fora vale {variavel_fora}\")\n",
    "    print(f\"Dentro da função a variavel_dentro vale {variavel_dentro}\")"
   ]
  },
  {
   "cell_type": "code",
   "execution_count": 19,
   "id": "91f86586-a7cb-46d9-9e2a-c35ac7453ab8",
   "metadata": {
    "tags": []
   },
   "outputs": [
    {
     "name": "stdout",
     "output_type": "stream",
     "text": [
      "Dentro da função a variavel_fora vale 10\n",
      "Dentro da função a variavel_dentro vale 20\n"
     ]
    }
   ],
   "source": [
    "minha_funcao()"
   ]
  },
  {
   "cell_type": "code",
   "execution_count": 20,
   "id": "0f27af76-14fa-4a8f-9149-7727c38b86ee",
   "metadata": {
    "tags": []
   },
   "outputs": [
    {
     "name": "stdout",
     "output_type": "stream",
     "text": [
      "Fora da função a variavel_fora vale 10\n"
     ]
    },
    {
     "ename": "NameError",
     "evalue": "name 'variavel_dentro' is not defined",
     "output_type": "error",
     "traceback": [
      "\u001b[0;31m---------------------------------------------------------------------------\u001b[0m",
      "\u001b[0;31mNameError\u001b[0m                                 Traceback (most recent call last)",
      "Cell \u001b[0;32mIn[20], line 2\u001b[0m\n\u001b[1;32m      1\u001b[0m \u001b[38;5;28mprint\u001b[39m(\u001b[38;5;124mf\u001b[39m\u001b[38;5;124m\"\u001b[39m\u001b[38;5;124mFora da função a variavel_fora vale \u001b[39m\u001b[38;5;132;01m{\u001b[39;00mvariavel_fora\u001b[38;5;132;01m}\u001b[39;00m\u001b[38;5;124m\"\u001b[39m)\n\u001b[0;32m----> 2\u001b[0m \u001b[38;5;28mprint\u001b[39m(\u001b[38;5;124mf\u001b[39m\u001b[38;5;124m\"\u001b[39m\u001b[38;5;124mFora da função a variavel_dentro vale \u001b[39m\u001b[38;5;132;01m{\u001b[39;00mvariavel_dentro\u001b[38;5;132;01m}\u001b[39;00m\u001b[38;5;124m\"\u001b[39m)\n",
      "\u001b[0;31mNameError\u001b[0m: name 'variavel_dentro' is not defined"
     ]
    }
   ],
   "source": [
    "print(f\"Fora da função a variavel_fora vale {variavel_fora}\")\n",
    "print(f\"Fora da função a variavel_dentro vale {variavel_dentro}\")"
   ]
  },
  {
   "cell_type": "markdown",
   "id": "c156debf-40a4-4e3f-9a56-520c4cc5c8d6",
   "metadata": {},
   "source": [
    "**Mas e em caso de conflitos?**\n",
    "\n",
    "Já vimos que a variável (variavel_fora) pode ser acessada de dentro da função. Mas o que acontece se a gente mudar a variável de fora dentro da função?"
   ]
  },
  {
   "cell_type": "code",
   "execution_count": null,
   "id": "ed4a161a-93ce-4516-9a1a-c4ce88d64392",
   "metadata": {
    "tags": []
   },
   "outputs": [],
   "source": [
    "variavel_fora = 10\n",
    "\n",
    "def minha_funcao(variavel_fora):\n",
    "    variavel_fora = 20\n",
    "    print(f\"Dentro da função a variavel_fora vale {variavel_fora}\")\n",
    "\n",
    "minha_funcao(variavel_fora)\n",
    "print(f\"Dentro da função a variavel_fora vale {variavel_fora}\")"
   ]
  },
  {
   "cell_type": "markdown",
   "id": "1ab311d9-06f8-4501-b7c7-e039326aba37",
   "metadata": {},
   "source": [
    "O que acontece é que o programa não altera a variável de fora dentro da função. \n",
    "\n",
    "Quando você redefine, ele cria duas variáveis diferentes uma `variavel_fora` de escopo global e uma `variavel_dentro` de escopo local. Por isso que a boa prática é sempre retornar o valor calculado e alterar fora da função."
   ]
  },
  {
   "cell_type": "markdown",
   "id": "91c212bc-cf65-44f5-bcf2-54be832bd406",
   "metadata": {},
   "source": [
    "**Último cuidado**\n",
    "\n",
    "Então já vimos que redefinir variáveis dentro da função não altera o valor delas fora da função. Isso é válido sempre que redefinimos a variável `=`, mas ainda temos que ter a preocupação com ponteiros, quando apenas modificamos um objeto."
   ]
  },
  {
   "cell_type": "code",
   "execution_count": 21,
   "id": "4bfa17ce-9c87-44f3-8dc3-da4de7229c91",
   "metadata": {
    "tags": []
   },
   "outputs": [
    {
     "name": "stdout",
     "output_type": "stream",
     "text": [
      "Dentro da função a variavel_fora vale [1]\n",
      "Dentro da função a variavel_fora vale [1]\n"
     ]
    }
   ],
   "source": [
    "lista_fora = []\n",
    "\n",
    "def minha_funcao():\n",
    "    lista_fora.append(1)\n",
    "    print(f\"Dentro da função a variavel_fora vale {lista_fora}\")\n",
    "\n",
    "minha_funcao()\n",
    "print(f\"Dentro da função a variavel_fora vale {lista_fora}\")"
   ]
  },
  {
   "cell_type": "markdown",
   "id": "1b4ea3c4-3b8f-4e7d-ba56-c18356856456",
   "metadata": {},
   "source": [
    "Nesse caso, alterar dentro da função modificou dentro e fora da função. Isso porque não foi redefinida a variável, apenas modificamos o valor interno dela."
   ]
  },
  {
   "cell_type": "markdown",
   "id": "0ff6e0c6-faa2-4c03-8303-9ea2c0846e06",
   "metadata": {},
   "source": [
    "### Bibliotecas\n",
    "\n",
    "Nem sempre a gente vai ter que desenvolver nossas próprias funções. \n",
    "\n",
    "A gente consegue usar bibliotecas com código já produzidos por outros programadores.\n",
    "\n",
    "Em python temos algumas bibliotecas padrões, que já vem instaladas nativamente e também podemos usar bibliotecas terceiras, que precisaremos importar nós mesmos.\n",
    "\n",
    "Para importar uma função de uma biblioteca, podemos usar a seguinte sintaxe: `import x from y`.\n",
    "\n",
    "Outra opção é importar o módulo inteiro, como `import x`"
   ]
  },
  {
   "cell_type": "markdown",
   "id": "823b627e-f148-4491-97f9-722af5cc70c0",
   "metadata": {},
   "source": [
    "#### Exemplo - Biblioteca math\n",
    "\n",
    "Um exemplo de biblioteca nativa é a math, que calcula valores matemáticos para a gente. Por exemplo, já fizemos exercícios de calcular fatorial de um número, mas poderíamos só ter importado a função da biblioteca math (https://docs.python.org/3/library/math.html)."
   ]
  },
  {
   "cell_type": "code",
   "execution_count": 22,
   "id": "d893d2cd-2816-42ce-a6b4-7a0a207e5bfe",
   "metadata": {
    "tags": []
   },
   "outputs": [],
   "source": [
    "from math import factorial"
   ]
  },
  {
   "cell_type": "code",
   "execution_count": 23,
   "id": "b3ee9eb4-a378-4704-bf3b-7368c2a4ca3f",
   "metadata": {
    "tags": []
   },
   "outputs": [
    {
     "data": {
      "text/plain": [
       "720"
      ]
     },
     "execution_count": 23,
     "metadata": {},
     "output_type": "execute_result"
    }
   ],
   "source": [
    "factorial(6)"
   ]
  },
  {
   "cell_type": "markdown",
   "id": "0031ce84-fd69-46c4-bfd7-2952c821c5a0",
   "metadata": {},
   "source": [
    "Ou então, podemos importar a math inteira no nosso código e usar assim:"
   ]
  },
  {
   "cell_type": "code",
   "execution_count": 24,
   "id": "1b4709e0-f2bc-4734-a105-276fbbb695f3",
   "metadata": {
    "tags": []
   },
   "outputs": [],
   "source": [
    "import math"
   ]
  },
  {
   "cell_type": "code",
   "execution_count": 25,
   "id": "0dc9deef-7c5f-4b55-b874-00175a47c3f1",
   "metadata": {
    "tags": []
   },
   "outputs": [
    {
     "data": {
      "text/plain": [
       "24"
      ]
     },
     "execution_count": 25,
     "metadata": {},
     "output_type": "execute_result"
    }
   ],
   "source": [
    "math.factorial(4) # Calcula fatorial de um número"
   ]
  },
  {
   "cell_type": "code",
   "execution_count": 26,
   "id": "eb29832c-7110-4fcf-b891-158dfc9a5aac",
   "metadata": {
    "tags": []
   },
   "outputs": [
    {
     "data": {
      "text/plain": [
       "4.605170185988092"
      ]
     },
     "execution_count": 26,
     "metadata": {},
     "output_type": "execute_result"
    }
   ],
   "source": [
    "math.log(100) # Calcula o logaritmo de um número"
   ]
  },
  {
   "cell_type": "markdown",
   "id": "5eed0459-19c8-4a48-8d43-24a8ebc88896",
   "metadata": {},
   "source": [
    "#### Exemplo - Biblioteca BioPython\n",
    "\n",
    "Além das bibliotecas principais, podemos usar códigos de terceiros. \n",
    "\n",
    "Para isso, porém, precisamos antes instalar bibliotecas. Você precisa instalar uma vez a biblioteca só no seu ambiente, normalmente pelo terminal, usando o comando `pip install biblioteca`.\n",
    "\n",
    "Vamos tentar fazer isso com uma de bioinformática, chamada de byopython.\n",
    "\n",
    "https://biopython.org/"
   ]
  },
  {
   "cell_type": "code",
   "execution_count": 27,
   "id": "e8c28399-9586-41cc-aa91-f99f58f7f5cd",
   "metadata": {
    "tags": []
   },
   "outputs": [
    {
     "name": "stdout",
     "output_type": "stream",
     "text": [
      "Requirement already satisfied: biopython in /Users/drt50748/anaconda3/lib/python3.11/site-packages (1.83)\n",
      "Requirement already satisfied: numpy in /Users/drt50748/anaconda3/lib/python3.11/site-packages (from biopython) (1.24.3)\n"
     ]
    }
   ],
   "source": [
    "# O ! indica que é uma função de terminal. Também é possível rodar ela no terminal\n",
    "!pip install biopython"
   ]
  },
  {
   "cell_type": "code",
   "execution_count": 28,
   "id": "9c584b8c-26b1-49aa-9491-2fd176b89a1e",
   "metadata": {
    "tags": []
   },
   "outputs": [],
   "source": [
    "from Bio.Seq import Seq"
   ]
  },
  {
   "cell_type": "code",
   "execution_count": 29,
   "id": "e29366a8-efa5-410c-81f2-9902e6d769d4",
   "metadata": {
    "tags": []
   },
   "outputs": [],
   "source": [
    "my_seq = Seq(\"AGTACACTGGT\")"
   ]
  },
  {
   "cell_type": "code",
   "execution_count": 30,
   "id": "afb18b33-21d5-4f90-9ed8-f6846d2e3d6b",
   "metadata": {
    "tags": []
   },
   "outputs": [
    {
     "data": {
      "text/plain": [
       "Seq('TCATGTGACCA')"
      ]
     },
     "execution_count": 30,
     "metadata": {},
     "output_type": "execute_result"
    }
   ],
   "source": [
    "my_seq.complement() # Achando a sequencia complementar"
   ]
  },
  {
   "cell_type": "code",
   "execution_count": 31,
   "id": "3438a016-8f6e-4616-9892-6a2771650742",
   "metadata": {
    "tags": []
   },
   "outputs": [
    {
     "data": {
      "text/plain": [
       "Seq('ACCAGTGTACT')"
      ]
     },
     "execution_count": 31,
     "metadata": {},
     "output_type": "execute_result"
    }
   ],
   "source": [
    "my_seq.reverse_complement() # Achando a sequencia complementar reversa"
   ]
  },
  {
   "cell_type": "code",
   "execution_count": 32,
   "id": "fb02b130-ec59-4541-8fff-a29c1fd2ef94",
   "metadata": {
    "tags": []
   },
   "outputs": [
    {
     "data": {
      "text/plain": [
       "Seq('AGUACACUGGU')"
      ]
     },
     "execution_count": 32,
     "metadata": {},
     "output_type": "execute_result"
    }
   ],
   "source": [
    "my_seq.transcribe() # Achando a transcrição"
   ]
  },
  {
   "cell_type": "markdown",
   "id": "b6d54bc1-9c5b-4f4e-82c4-479477d2aba6",
   "metadata": {},
   "source": [
    "Viu como é fácil usar bibliotecas e funções?"
   ]
  },
  {
   "cell_type": "markdown",
   "id": "12233961-f770-4aeb-b3a8-ec4a8307c710",
   "metadata": {
    "tags": []
   },
   "source": [
    "### Exercício\n",
    "\n",
    "Estamos analisando uma amostra de microbioma e queremos saber se a abundancia de uma bactéria está dentro ou fora do esperado.\n",
    "\n",
    "Para isso, vamos criar uma função que vai receber dois argumentos:\n",
    "\n",
    "A abundância do organismo nessa amostra atual e uma lista com a abundância desse organismo em outras amostras.\n",
    "\n",
    "Se a abundância desse organismo estiver dentro da média da lista +- o desvio padrão dela, vamos considerar que está dentro, se não, vamos considerar que está fora.\n",
    "\n",
    "Crie uma função que receba esses 2 parâmetros e retorne \"Dentro\" ou \"Fora\".\n",
    "\n",
    "**Dica**\n",
    "\n",
    "Utilize a função mean a biblioteca `statistics` do python para calcular média e desvio padrão\n",
    "\n",
    "`import statistics`\n",
    "\n",
    "`statistics.mean(lista)` -> Calcula a média\n",
    "\n",
    "`statistics.stdev(lista)` -> Calcula o desvio padrão"
   ]
  },
  {
   "cell_type": "code",
   "execution_count": 37,
   "id": "6f499756-dd55-4b60-aaa9-78602cde6a34",
   "metadata": {
    "tags": []
   },
   "outputs": [],
   "source": [
    "import statistics"
   ]
  },
  {
   "cell_type": "code",
   "execution_count": 38,
   "id": "6ac91dcc-caf6-4ce6-86a0-dcc1eb2f096b",
   "metadata": {
    "tags": []
   },
   "outputs": [],
   "source": [
    "lista_de_abundancias = [10, 20, 30, 30, 20, 20, 10, 5, 5, 25, 30, 23, 23]\n",
    "\n",
    "def verifica_organismo(abundancia_organismo, lista_de_abundancias):\n",
    "    media = statistics.mean(lista_de_abundancias)\n",
    "    desvio_padrao = statistics.stdev(lista_de_abundancias)\n",
    "        \n",
    "    if abundancia_organismo > (media + desvio_padrao) or abundancia_organismo < (media - desvio_padrao):\n",
    "        return \"Fora\"\n",
    "    else:\n",
    "        return \"Dentro\""
   ]
  },
  {
   "cell_type": "code",
   "execution_count": 39,
   "id": "3ba6d1d0-32db-454c-aa58-d7cd7eca5905",
   "metadata": {
    "tags": []
   },
   "outputs": [
    {
     "data": {
      "text/plain": [
       "'Dentro'"
      ]
     },
     "execution_count": 39,
     "metadata": {},
     "output_type": "execute_result"
    }
   ],
   "source": [
    "verifica_organismo(26, lista_de_abundancias)"
   ]
  },
  {
   "cell_type": "code",
   "execution_count": null,
   "id": "b0bafe72-1f78-483a-9259-3e85f88777c2",
   "metadata": {},
   "outputs": [],
   "source": []
  }
 ],
 "metadata": {
  "kernelspec": {
   "display_name": "Python 3 (ipykernel)",
   "language": "python",
   "name": "python3"
  },
  "language_info": {
   "codemirror_mode": {
    "name": "ipython",
    "version": 3
   },
   "file_extension": ".py",
   "mimetype": "text/x-python",
   "name": "python",
   "nbconvert_exporter": "python",
   "pygments_lexer": "ipython3",
   "version": "3.11.5"
  }
 },
 "nbformat": 4,
 "nbformat_minor": 5
}
