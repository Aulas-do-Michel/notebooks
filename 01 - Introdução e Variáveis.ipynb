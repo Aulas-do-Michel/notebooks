{
 "cells": [
  {
   "cell_type": "markdown",
   "id": "ecdd8eb6-8531-4d24-8435-763e49940923",
   "metadata": {},
   "source": [
    "# Introdução, Variáveis e Expressões Numéricas"
   ]
  },
  {
   "cell_type": "markdown",
   "id": "daa58eca-6eba-40fb-9ca9-613d6dc58b8e",
   "metadata": {},
   "source": [
    "A primeira coisa é aprender a dizer olá para o mundo!\n",
    "\n",
    "Para isso vamos utilizar uma função chamada `print`.\n",
    "\n",
    "Vamos ver funções com mais detalhes lá na frente do curso, inclusive como fazer a nossa própria!\n",
    "\n",
    "Mas por enquanto o que precisamos saber é que uma função é um comando que executa uma ação.\n",
    "\n",
    "Ele é chamado da seguinte forma: `acao()`.\n",
    "\n",
    "A função `print` é uma função que server para imprimir no terminal."
   ]
  },
  {
   "cell_type": "code",
   "execution_count": 23,
   "id": "0b280aba-d763-4a13-903b-e68d152c847a",
   "metadata": {
    "tags": []
   },
   "outputs": [
    {
     "name": "stdout",
     "output_type": "stream",
     "text": [
      "Olá, Mundo\n"
     ]
    }
   ],
   "source": [
    "print('Olá, Mundo')"
   ]
  },
  {
   "cell_type": "markdown",
   "id": "abd27352-cb8b-4852-b633-610f4ea30efb",
   "metadata": {},
   "source": [
    "A função print serve para imprimir um valor terminal. Ela vai ser muito útil nos nossos exemplos iniciais e vamos a utilizar muito durante o curso!"
   ]
  },
  {
   "cell_type": "markdown",
   "id": "80b3e8bf-e99f-46e7-91a7-a4d4cb1853c8",
   "metadata": {
    "tags": []
   },
   "source": [
    "## Variaveis\n",
    "\n",
    "Podemos salvar as informações em variáveis.\n",
    "\n",
    "Uma variável é um nome que faz referência a um objeto na memória que corresponde a um valor.\n",
    "\n",
    "Para criar uma variável podemos usar o comando de a atribuição `=`"
   ]
  },
  {
   "cell_type": "code",
   "execution_count": 28,
   "id": "eb6d2e3f-633f-438b-9d08-78a92de38277",
   "metadata": {
    "tags": []
   },
   "outputs": [],
   "source": [
    "minha_variavel = 5"
   ]
  },
  {
   "cell_type": "code",
   "execution_count": 29,
   "id": "805386f6-982b-477a-b1d2-a0cf1a1139cc",
   "metadata": {
    "tags": []
   },
   "outputs": [
    {
     "name": "stdout",
     "output_type": "stream",
     "text": [
      "5\n"
     ]
    }
   ],
   "source": [
    "print(minha_variavel)"
   ]
  },
  {
   "cell_type": "markdown",
   "id": "84dcde16-efa0-4af4-90fa-4bc51ca47e68",
   "metadata": {},
   "source": [
    "Nosso programa consegue coletar dados do usuário e atribuí-lo em variáveis usando a função input."
   ]
  },
  {
   "cell_type": "code",
   "execution_count": 30,
   "id": "31d198b5-a9de-4487-be87-dab1d1960740",
   "metadata": {
    "tags": []
   },
   "outputs": [
    {
     "name": "stdin",
     "output_type": "stream",
     "text": [
      "Digite um número:  10\n"
     ]
    },
    {
     "name": "stdout",
     "output_type": "stream",
     "text": [
      "O número digitado foi 10\n"
     ]
    }
   ],
   "source": [
    "numero_digitado = input('Digite um número: ')\n",
    "\n",
    "print('O número digitado foi', numero_digitado)"
   ]
  },
  {
   "cell_type": "markdown",
   "id": "318bbc14-91df-4783-90b5-d60298fa869b",
   "metadata": {},
   "source": [
    "## Tipos de dados\n",
    "\n",
    "Na progamação existem diferentes tipos de dados.\n",
    "\n",
    "Internamente, cada tipo de dado é representado de forma diferente e possui um conjunto distinto de operações.\n",
    "\n",
    "Tipos primitivos:\n",
    "\n",
    "- Inteiro (int)\n",
    "    - Esse tipo de dado é utilizado para representar números inteiros, por exemplo 1, 2, 3, etc.\n",
    "- Floats (float)\n",
    "    - Esse tipo de dado é utilizado para representar números fracionados, como por exemplo 1.5, 1.333, 1.0, etc.\n",
    "- Boolean (bool)\n",
    "    - Esse tipo de dado é um tipo de dado binário, que representa se algo é Verdadeiro (True) ou Falso (False).\n",
    "- Strings (str)\n",
    "    - Esse tipo de dado é utilizado para representar texto. Para indicar uma string no Python shell, devemos escrevê-lo entre aspas duplas ou simples."
   ]
  },
  {
   "cell_type": "code",
   "execution_count": 31,
   "id": "f3f3b35e-90a5-4806-9413-3a19c2e26332",
   "metadata": {
    "tags": []
   },
   "outputs": [
    {
     "name": "stdout",
     "output_type": "stream",
     "text": [
      "<class 'int'>\n"
     ]
    }
   ],
   "source": [
    "print(type(2))"
   ]
  },
  {
   "cell_type": "code",
   "execution_count": 32,
   "id": "d8b4a05f-adba-44b3-9d8f-5b8e773f7e41",
   "metadata": {
    "tags": []
   },
   "outputs": [
    {
     "name": "stdout",
     "output_type": "stream",
     "text": [
      "<class 'float'>\n"
     ]
    }
   ],
   "source": [
    "print(type(2.5))"
   ]
  },
  {
   "cell_type": "code",
   "execution_count": 33,
   "id": "8906b883-6b2b-461b-8314-cde020430f79",
   "metadata": {
    "tags": []
   },
   "outputs": [
    {
     "name": "stdout",
     "output_type": "stream",
     "text": [
      "<class 'str'>\n"
     ]
    }
   ],
   "source": [
    "print(type('2'))"
   ]
  },
  {
   "cell_type": "code",
   "execution_count": 35,
   "id": "26a835f7-0c69-461f-bc0f-fcc71b5c9d01",
   "metadata": {
    "tags": []
   },
   "outputs": [
    {
     "name": "stdout",
     "output_type": "stream",
     "text": [
      "<class 'bool'>\n"
     ]
    }
   ],
   "source": [
    "print(type(False))"
   ]
  },
  {
   "cell_type": "markdown",
   "id": "f190b3da-1e09-4b96-9359-07aaf7650dd6",
   "metadata": {},
   "source": [
    "É importante entender tipos de dados pois cada um terá sua particularidade. Por exemplo, eu posso facilmente somar dois números para obter um valor:"
   ]
  },
  {
   "cell_type": "code",
   "execution_count": 38,
   "id": "109c31b2-f4a4-4955-84ba-db9a29f98498",
   "metadata": {
    "tags": []
   },
   "outputs": [
    {
     "data": {
      "text/plain": [
       "2"
      ]
     },
     "execution_count": 38,
     "metadata": {},
     "output_type": "execute_result"
    }
   ],
   "source": [
    "1 + 1"
   ]
  },
  {
   "cell_type": "markdown",
   "id": "8f847d88-1239-464d-bc3a-778de74a9e12",
   "metadata": {},
   "source": [
    "O comando de `+` adiciona dois números!"
   ]
  },
  {
   "cell_type": "code",
   "execution_count": 41,
   "id": "a0cbd29b-623e-433e-89f6-11ce0d58fd43",
   "metadata": {
    "tags": []
   },
   "outputs": [
    {
     "data": {
      "text/plain": [
       "'11'"
      ]
     },
     "execution_count": 41,
     "metadata": {},
     "output_type": "execute_result"
    }
   ],
   "source": [
    "'1' + '1'"
   ]
  },
  {
   "cell_type": "markdown",
   "id": "743e210e-ec12-462f-9c78-42f3fd379b34",
   "metadata": {
    "tags": []
   },
   "source": [
    "No entanto o comando de `+` apenas concatena duas strings! Isso porque não faz sentido \"somar\" palavras."
   ]
  },
  {
   "cell_type": "markdown",
   "id": "011b5ae0-e233-47e7-8575-75d412c82dee",
   "metadata": {},
   "source": [
    "#### Convertendo entre tipo de dados:\n",
    "\n",
    "Você pode converter dois tipos de dados em Python, usando as funções de mesmo nome como mostra os exemplos abaixo."
   ]
  },
  {
   "cell_type": "code",
   "execution_count": 43,
   "id": "bf3d5e51-a08c-46c3-a7a9-03b539b8819d",
   "metadata": {
    "tags": []
   },
   "outputs": [
    {
     "data": {
      "text/plain": [
       "1.0"
      ]
     },
     "execution_count": 43,
     "metadata": {},
     "output_type": "execute_result"
    }
   ],
   "source": [
    "float(1)"
   ]
  },
  {
   "cell_type": "code",
   "execution_count": 44,
   "id": "a3dd673f-81e9-4e0b-889c-bbf2d16009be",
   "metadata": {
    "tags": []
   },
   "outputs": [
    {
     "data": {
      "text/plain": [
       "2"
      ]
     },
     "execution_count": 44,
     "metadata": {},
     "output_type": "execute_result"
    }
   ],
   "source": [
    "int(2.8)"
   ]
  },
  {
   "cell_type": "code",
   "execution_count": 45,
   "id": "2f1c18b3-5774-4032-9533-efb789a679ce",
   "metadata": {
    "tags": []
   },
   "outputs": [
    {
     "data": {
      "text/plain": [
       "1"
      ]
     },
     "execution_count": 45,
     "metadata": {},
     "output_type": "execute_result"
    }
   ],
   "source": [
    "int('1')"
   ]
  },
  {
   "cell_type": "code",
   "execution_count": 46,
   "id": "1ba7bb1d-d446-4ad8-92c5-4ef2f66f09c5",
   "metadata": {
    "tags": []
   },
   "outputs": [
    {
     "data": {
      "text/plain": [
       "'2.8'"
      ]
     },
     "execution_count": 46,
     "metadata": {},
     "output_type": "execute_result"
    }
   ],
   "source": [
    "str(2.8)"
   ]
  },
  {
   "cell_type": "markdown",
   "id": "979d1d8d-9c61-4168-b37a-c9694133e7be",
   "metadata": {},
   "source": [
    "Essa conversão, porém, nem sempre será possível caso não faça sentido:"
   ]
  },
  {
   "cell_type": "code",
   "execution_count": 47,
   "id": "537690c3-cf61-4096-9254-b2b1778ece1c",
   "metadata": {
    "tags": []
   },
   "outputs": [
    {
     "ename": "ValueError",
     "evalue": "invalid literal for int() with base 10: 'Olá, Mundo'",
     "output_type": "error",
     "traceback": [
      "\u001b[0;31m---------------------------------------------------------------------------\u001b[0m",
      "\u001b[0;31mValueError\u001b[0m                                Traceback (most recent call last)",
      "Cell \u001b[0;32mIn[47], line 1\u001b[0m\n\u001b[0;32m----> 1\u001b[0m \u001b[38;5;28mint\u001b[39m(\u001b[38;5;124m'\u001b[39m\u001b[38;5;124mOlá, Mundo\u001b[39m\u001b[38;5;124m'\u001b[39m)\n",
      "\u001b[0;31mValueError\u001b[0m: invalid literal for int() with base 10: 'Olá, Mundo'"
     ]
    }
   ],
   "source": [
    "int('Olá, Mundo')"
   ]
  },
  {
   "cell_type": "markdown",
   "id": "299b0186-4aae-4f81-80de-48a1d978c3e9",
   "metadata": {},
   "source": [
    "#### Exercício\n",
    "\n",
    "Faça um pequeno código que recebe dois números e imprima no terminal a soma deles.\n",
    "\n",
    "Exemplo:\n",
    "\n",
    "Digite o primeiro número: 10\n",
    "\n",
    "Digite o segundo número: 5\n",
    "\n",
    "Resposta:\n",
    "15"
   ]
  },
  {
   "cell_type": "code",
   "execution_count": 48,
   "id": "50704761-f068-4ec6-a2e8-5167997bc9ec",
   "metadata": {
    "tags": []
   },
   "outputs": [
    {
     "name": "stdin",
     "output_type": "stream",
     "text": [
      "Digite o primeiro número:  10\n",
      "Digite o segundo número:  40\n"
     ]
    },
    {
     "name": "stdout",
     "output_type": "stream",
     "text": [
      "A soma entre 10 e 40 é: 1040\n"
     ]
    }
   ],
   "source": [
    "primeiro_numero = input('Digite o primeiro número: ')\n",
    "segundo_numero = input('Digite o segundo número: ')\n",
    "\n",
    "print(f'A soma entre {primeiro_numero} e {segundo_numero} é: {primeiro_numero + segundo_numero}')"
   ]
  },
  {
   "cell_type": "markdown",
   "id": "84654c9c-8712-491f-9683-2a65e4dfacf0",
   "metadata": {},
   "source": [
    "O que está de errado nesse exemplo e como podemos corrigir?"
   ]
  },
  {
   "cell_type": "code",
   "execution_count": 10,
   "id": "73476449-2fb4-433b-aded-e9adcf89d26c",
   "metadata": {
    "tags": []
   },
   "outputs": [
    {
     "name": "stdout",
     "output_type": "stream",
     "text": [
      "<class 'str'>\n"
     ]
    }
   ],
   "source": [
    "print(type(primeiro_numero))"
   ]
  },
  {
   "cell_type": "markdown",
   "id": "e66ccef2-e952-4a80-89d4-e346d7220aeb",
   "metadata": {},
   "source": [
    "A função input recebe um texto do usuário. Para somá-los, primeiro precisamos converter para número!"
   ]
  },
  {
   "cell_type": "code",
   "execution_count": 49,
   "id": "b9d9db20-0f18-4d32-9a79-80ac0e132e46",
   "metadata": {
    "tags": []
   },
   "outputs": [
    {
     "name": "stdin",
     "output_type": "stream",
     "text": [
      "Digite o primeiro número:  10\n",
      "Digite o segundo número:  40\n"
     ]
    },
    {
     "name": "stdout",
     "output_type": "stream",
     "text": [
      "A soma entre 10 e 40 é: 50\n"
     ]
    }
   ],
   "source": [
    "primeiro_numero = int(input('Digite o primeiro número: '))\n",
    "segundo_numero = int(input('Digite o segundo número: '))\n",
    "\n",
    "print(f\"A soma entre {primeiro_numero} e {segundo_numero} é: {primeiro_numero + segundo_numero}\")"
   ]
  },
  {
   "cell_type": "code",
   "execution_count": 51,
   "id": "e0141f68-894f-4643-8386-e5f3862e8337",
   "metadata": {
    "tags": []
   },
   "outputs": [
    {
     "name": "stdout",
     "output_type": "stream",
     "text": [
      "O primeiro número é 10\n"
     ]
    }
   ],
   "source": [
    "print(f\"O primeiro número é {primeiro_numero}\")"
   ]
  },
  {
   "cell_type": "markdown",
   "id": "add763a2-b0b8-4ebb-bfdc-31655ed41dd8",
   "metadata": {
    "tags": []
   },
   "source": [
    "## Operações aritméticas\n",
    "\n",
    "Uma das funções mais recorrentes na programação envolve fazer operações aritméticas (fazer \"contas\"). Para isso, vamos aprender sobre operadores aritméticos e expressões aritméticas"
   ]
  },
  {
   "cell_type": "markdown",
   "id": "ff45954e-d55f-4b7d-bce1-828796d0a3a5",
   "metadata": {
    "tags": []
   },
   "source": [
    "### Operadores aritméticos\n",
    "\n",
    "As operações mais comuns na programação são aquelas que também são mais comuns no dia a dia: soma, subtração, multiplicação e divisão. Além disso, temos alguns outros operadores úteis, como potência, divisão inteira e resto.\n",
    "\n",
    "- Soma / Subtração\n",
    "    - Feito com o sinal de + (soma) e - (subtração). Exemplos: \n",
    "        - 2 + 2 = 4\n",
    "        - 3 - 2 = 1\n",
    "        - 1 - 2 = -1\n",
    "- Multiplicação / Divisão\n",
    "    - Feito com sinal de * (multiplicação) e / (divisão)\n",
    "        - 2 * 2 = 4\n",
    "        - 6 / 2 = 3.0\n",
    "        - 2 / 4 = 0.5\n",
    "- Potência / Raíz\n",
    "    - Feito com sinal de **. Lembrando que pode-se obter a raiz de um número a partir de uma potência < 1.\n",
    "        - 3 ** 3 = 27\n",
    "        - Raiz quadrade de 4 -> 4**(1/2)=2\n",
    "- Divisão Inteira e Resto\n",
    "    - Divisão inteira (sinal //) e Resto (sinal %) são operadores de divisão que vão trazer apenas o resultado inteiro. Assim, 5 dividido por 2 em vez vez de ser como 2.5, pode ser tratado como 2 e resto 1. Exemplos:\n",
    "        - 5 // 2 = 2\n",
    "        - 5 % 2 = 1\n",
    "    "
   ]
  },
  {
   "cell_type": "code",
   "execution_count": 56,
   "id": "66eeb46a-74c4-4860-b492-4523d7e1965f",
   "metadata": {
    "tags": []
   },
   "outputs": [
    {
     "data": {
      "text/plain": [
       "4"
      ]
     },
     "execution_count": 56,
     "metadata": {},
     "output_type": "execute_result"
    }
   ],
   "source": [
    "2 + 2"
   ]
  },
  {
   "cell_type": "code",
   "execution_count": 57,
   "id": "058e1a6a-1ca1-4583-986e-e31ec6c1f1e2",
   "metadata": {
    "tags": []
   },
   "outputs": [
    {
     "data": {
      "text/plain": [
       "3.3333333333333335"
      ]
     },
     "execution_count": 57,
     "metadata": {},
     "output_type": "execute_result"
    }
   ],
   "source": [
    "10 / 3"
   ]
  },
  {
   "cell_type": "code",
   "execution_count": 58,
   "id": "6632e0ce-343d-46cf-adba-5a95a1c98384",
   "metadata": {
    "tags": []
   },
   "outputs": [
    {
     "data": {
      "text/plain": [
       "27"
      ]
     },
     "execution_count": 58,
     "metadata": {},
     "output_type": "execute_result"
    }
   ],
   "source": [
    "3 ** 3"
   ]
  },
  {
   "cell_type": "code",
   "execution_count": 59,
   "id": "f2ea2d7e-2f8b-4252-ac37-79d203c2d48f",
   "metadata": {
    "tags": []
   },
   "outputs": [
    {
     "data": {
      "text/plain": [
       "2.0"
      ]
     },
     "execution_count": 59,
     "metadata": {},
     "output_type": "execute_result"
    }
   ],
   "source": [
    "4 ** (1/2)"
   ]
  },
  {
   "cell_type": "code",
   "execution_count": 60,
   "id": "b12339b3-4a8f-4434-b382-67708a8a72b1",
   "metadata": {
    "tags": []
   },
   "outputs": [
    {
     "data": {
      "text/plain": [
       "3"
      ]
     },
     "execution_count": 60,
     "metadata": {},
     "output_type": "execute_result"
    }
   ],
   "source": [
    "10 // 3"
   ]
  },
  {
   "cell_type": "code",
   "execution_count": 61,
   "id": "0f4daf8d-d4d6-46c5-8126-3027a653d520",
   "metadata": {
    "tags": []
   },
   "outputs": [
    {
     "data": {
      "text/plain": [
       "1"
      ]
     },
     "execution_count": 61,
     "metadata": {},
     "output_type": "execute_result"
    }
   ],
   "source": [
    "10 % 3"
   ]
  },
  {
   "cell_type": "markdown",
   "id": "36eaf167-97e0-4a89-9ed4-f76f4ed0d72a",
   "metadata": {
    "tags": []
   },
   "source": [
    "### Expressões aritméticas\n",
    "\n",
    "Podemos combinar vários operadores aritméticos para montar uma expressão aritmética. \n",
    "\n",
    "Da mesma forma que na matemática escrita, os operadores podem ser combinados de acordo com uma ordem de precedência.\n",
    "\n",
    "Por exemplo: multiplicação é feita antes da soma/subtração. Entre operadores de mesma precedência, segue-se a ordem da esquerda para direita.\n",
    "\n",
    "A precedência é:\n",
    "\n",
    "1) Parentesis ()\n",
    "2) Potência e Raiz\n",
    "3) Multiplicação / divisão / divisão inteira / resto\n",
    "4) Soma / Subtração"
   ]
  },
  {
   "cell_type": "code",
   "execution_count": 62,
   "id": "bd7e1ac9-d79f-4218-8c87-235fc40d98e0",
   "metadata": {
    "tags": []
   },
   "outputs": [
    {
     "name": "stdout",
     "output_type": "stream",
     "text": [
      "7\n"
     ]
    }
   ],
   "source": [
    "# Quanto que é 1 + 2 * 3?\n",
    "\n",
    "print(1 + 2 * 3)"
   ]
  },
  {
   "cell_type": "code",
   "execution_count": 63,
   "id": "14c77459-a601-4cef-ba4c-ad0f598423bb",
   "metadata": {
    "tags": []
   },
   "outputs": [
    {
     "name": "stdout",
     "output_type": "stream",
     "text": [
      "9\n"
     ]
    }
   ],
   "source": [
    "# Quanto é (1 + 2) * 3?\n",
    "\n",
    "print((1 + 2) * 3)"
   ]
  },
  {
   "cell_type": "markdown",
   "id": "0f8be6da-d466-4a8d-9d42-8d90015cb81e",
   "metadata": {},
   "source": [
    "#### Exercício 1\n",
    "\n",
    "Dado um número digitado pelo usuário, imprima seu antecessor, seu sucessor, seu dobro e sua raiz quadrada\n",
    "\n",
    "Exemplo:\n",
    "Digite seu número: 4\n",
    "\n",
    "Resposta:\n",
    "\n",
    "O antecessor do número 4 é 3.\n",
    "\n",
    "O sucessor do número 4 é 5.\n",
    "\n",
    "O dobro do número 4 é 8.\n",
    "\n",
    "A raiz quadrada do número 4 é 2.\n",
    "\n",
    "#### Exercício 2\n",
    "\n",
    "Receba 2 inputs do usuário: O preço de um produto em reais e uma porcentagem de desconto a ser aplicada sobre ele (entre 0 e 100). Devolva o preço final do produto.\n",
    "\n",
    "Exemplo:\n",
    "\n",
    "Digite o preço do produtos em reais: 10.5\n",
    "\n",
    "Digite o desconto a ser aplicado (em porcentagem): 50\n",
    "\n",
    "\n",
    "Resposta:\n",
    "\n",
    "O preço final do produto é 5.25"
   ]
  },
  {
   "cell_type": "code",
   "execution_count": 65,
   "id": "fe3b611c-bb49-42b1-b1e4-8dbad68f70ac",
   "metadata": {},
   "outputs": [
    {
     "name": "stdin",
     "output_type": "stream",
     "text": [
      "Digite seu número: 16\n"
     ]
    },
    {
     "name": "stdout",
     "output_type": "stream",
     "text": [
      "O antecessor do número 16 é 15\n",
      "O sucessor do número 16 é 17\n",
      "O dobro do número 16 é 32\n",
      "A raiz do número 16 é 4.0\n"
     ]
    }
   ],
   "source": [
    "numero = int(input(\"Digite seu número:\"))\n",
    "\n",
    "antecessor = numero - 1\n",
    "sucessor = numero + 1\n",
    "dobro = numero * 2\n",
    "raiz = numero ** (1/2)\n",
    "\n",
    "print(f\"O antecessor do número {numero} é {antecessor}\")\n",
    "print(f\"O sucessor do número {numero} é {sucessor}\")\n",
    "print(f\"O dobro do número {numero} é {dobro}\")\n",
    "print(f\"A raiz do número {numero} é {raiz}\")"
   ]
  },
  {
   "cell_type": "code",
   "execution_count": 69,
   "id": "2ce51fe8-f5a5-4582-be32-5c93930fe7fa",
   "metadata": {
    "tags": []
   },
   "outputs": [
    {
     "name": "stdin",
     "output_type": "stream",
     "text": [
      "Digite o preço do produto:  10.5\n",
      "Digite o desconto (entre 0 e 100) 50\n"
     ]
    },
    {
     "name": "stdout",
     "output_type": "stream",
     "text": [
      "O preço final do produto é 5.25\n"
     ]
    }
   ],
   "source": [
    "preco_do_produto = float(input(\"Digite o preço do produto: \"))\n",
    "desconto = float(input(\"Digite o desconto (entre 0 e 100)\"))\n",
    "\n",
    "valor_de_desconto = preco_do_produto * (desconto / 100)\n",
    "\n",
    "valor_final = preco_do_produto - valor_de_desconto\n",
    "\n",
    "print(f\"O preço final do produto é {valor_final}\")"
   ]
  },
  {
   "cell_type": "code",
   "execution_count": null,
   "id": "dc60ec71-206c-47c5-a27e-c1676622480d",
   "metadata": {},
   "outputs": [],
   "source": []
  }
 ],
 "metadata": {
  "kernelspec": {
   "display_name": "Python 3 (ipykernel)",
   "language": "python",
   "name": "python3"
  },
  "language_info": {
   "codemirror_mode": {
    "name": "ipython",
    "version": 3
   },
   "file_extension": ".py",
   "mimetype": "text/x-python",
   "name": "python",
   "nbconvert_exporter": "python",
   "pygments_lexer": "ipython3",
   "version": "3.11.5"
  }
 },
 "nbformat": 4,
 "nbformat_minor": 5
}
